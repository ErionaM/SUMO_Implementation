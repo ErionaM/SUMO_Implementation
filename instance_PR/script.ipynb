{
 "cells": [
  {
   "cell_type": "code",
   "execution_count": 1,
   "metadata": {},
   "outputs": [],
   "source": [
    "import pandas as pd"
   ]
  },
  {
   "cell_type": "code",
   "execution_count": 41,
   "metadata": {},
   "outputs": [],
   "source": [
    "with open('Prishtina_ER.txt', 'r') as file:\n",
    "    text_data = file.readlines()\n",
    "\n",
    "# Step 2: Read the Excel file into a pandas dataframe\n",
    "excel_df = pd.read_excel('test.xlsx')"
   ]
  },
  {
   "cell_type": "code",
   "execution_count": 42,
   "metadata": {},
   "outputs": [],
   "source": [
    "street_to_sumo_mapping = {f\"{street_name}\": sumo_name for street_name, sumo_name in zip(excel_df['street_name'], excel_df['SUMO_name'])}"
   ]
  },
  {
   "cell_type": "code",
   "execution_count": 43,
   "metadata": {},
   "outputs": [
    {
     "data": {
      "text/plain": [
       "{'RrethiMadh_Lakrishte_BillClinton ': 'E1',\n",
       " 'Lakrishte_BillClinton_Santea ': '670507192#0',\n",
       " 'BillClinton_Santea_Katedralja ': '732059549#1',\n",
       " 'Santea_Katedralja_Menza ': '322292822#2',\n",
       " 'Katedralja_Menza_MAShTI ': '732149240#0',\n",
       " 'Katedralja_Menza_Teknik ': '732149240#0',\n",
       " 'Menza_MAShTI_Parlamenti ': '144928692#2',\n",
       " 'Menza_Teknik_RrugaB ': '670227225#0',\n",
       " 'Menza_Teknik_Qerimi ': '670227225#0'}"
      ]
     },
     "execution_count": 43,
     "metadata": {},
     "output_type": "execute_result"
    }
   ],
   "source": [
    "street_to_sumo_mapping"
   ]
  },
  {
   "cell_type": "code",
   "execution_count": 44,
   "metadata": {},
   "outputs": [
    {
     "data": {
      "text/html": [
       "<div>\n",
       "<style scoped>\n",
       "    .dataframe tbody tr th:only-of-type {\n",
       "        vertical-align: middle;\n",
       "    }\n",
       "\n",
       "    .dataframe tbody tr th {\n",
       "        vertical-align: top;\n",
       "    }\n",
       "\n",
       "    .dataframe thead th {\n",
       "        text-align: right;\n",
       "    }\n",
       "</style>\n",
       "<table border=\"1\" class=\"dataframe\">\n",
       "  <thead>\n",
       "    <tr style=\"text-align: right;\">\n",
       "      <th></th>\n",
       "      <th>street_name</th>\n",
       "      <th>SUMO_name</th>\n",
       "    </tr>\n",
       "  </thead>\n",
       "  <tbody>\n",
       "    <tr>\n",
       "      <th>0</th>\n",
       "      <td>RrethiMadh_Lakrishte_BillClinton</td>\n",
       "      <td>E1</td>\n",
       "    </tr>\n",
       "    <tr>\n",
       "      <th>1</th>\n",
       "      <td>Lakrishte_BillClinton_Santea</td>\n",
       "      <td>670507192#0</td>\n",
       "    </tr>\n",
       "    <tr>\n",
       "      <th>2</th>\n",
       "      <td>BillClinton_Santea_Katedralja</td>\n",
       "      <td>732059549#1</td>\n",
       "    </tr>\n",
       "    <tr>\n",
       "      <th>3</th>\n",
       "      <td>Santea_Katedralja_Menza</td>\n",
       "      <td>322292822#2</td>\n",
       "    </tr>\n",
       "    <tr>\n",
       "      <th>4</th>\n",
       "      <td>Katedralja_Menza_MAShTI</td>\n",
       "      <td>732149240#0</td>\n",
       "    </tr>\n",
       "    <tr>\n",
       "      <th>5</th>\n",
       "      <td>Katedralja_Menza_Teknik</td>\n",
       "      <td>732149240#0</td>\n",
       "    </tr>\n",
       "    <tr>\n",
       "      <th>6</th>\n",
       "      <td>Menza_MAShTI_Parlamenti</td>\n",
       "      <td>144928692#2</td>\n",
       "    </tr>\n",
       "    <tr>\n",
       "      <th>7</th>\n",
       "      <td>Menza_Teknik_RrugaB</td>\n",
       "      <td>670227225#0</td>\n",
       "    </tr>\n",
       "    <tr>\n",
       "      <th>8</th>\n",
       "      <td>Menza_Teknik_Qerimi</td>\n",
       "      <td>670227225#0</td>\n",
       "    </tr>\n",
       "  </tbody>\n",
       "</table>\n",
       "</div>"
      ],
      "text/plain": [
       "                         street_name    SUMO_name\n",
       "0  RrethiMadh_Lakrishte_BillClinton            E1\n",
       "1      Lakrishte_BillClinton_Santea   670507192#0\n",
       "2     BillClinton_Santea_Katedralja   732059549#1\n",
       "3           Santea_Katedralja_Menza   322292822#2\n",
       "4           Katedralja_Menza_MAShTI   732149240#0\n",
       "5           Katedralja_Menza_Teknik   732149240#0\n",
       "6           Menza_MAShTI_Parlamenti   144928692#2\n",
       "7               Menza_Teknik_RrugaB   670227225#0\n",
       "8               Menza_Teknik_Qerimi   670227225#0"
      ]
     },
     "execution_count": 44,
     "metadata": {},
     "output_type": "execute_result"
    }
   ],
   "source": [
    "excel_df"
   ]
  },
  {
   "cell_type": "code",
   "execution_count": 45,
   "metadata": {},
   "outputs": [
    {
     "data": {
      "text/plain": [
       "['180 8 9 10 1000\\n',\n",
       " '0 1 RrethiMadh_Lakrishte_BillClinton 10\\n',\n",
       " '1 2 Lakrishte_BillClinton_Santea 10\\n',\n",
       " '2 3 BillClinton_Santea_Katedralja 15\\n',\n",
       " '3 4 Santea_Katedralja_Menza 30\\n',\n",
       " '4 5 Katedralja_Menza_MAShTI 10\\n',\n",
       " '4 5 Katedralja_Menza_Teknik 10\\n',\n",
       " '5 6 Menza_MAShTI_Parlamenti 20\\n',\n",
       " '5 7 Menza_Teknik_RrugaB 18\\n',\n",
       " '5 7 Menza_Teknik_Qerimi 18\\n',\n",
       " '4 RrethiMadh_Lakrishte_BillClinton Lakrishte_BillClinton_Santea BillClinton_Santea_Katedralja Santea_Katedralja_Menza \\n',\n",
       " '4 RrethiMadh_Lakrishte_BillClinton Lakrishte_BillClinton_Santea BillClinton_Santea_Katedralja Santea_Katedralja_Menza \\n',\n",
       " '6 RrethiMadh_Lakrishte_BillClinton Lakrishte_BillClinton_Santea BillClinton_Santea_Katedralja Santea_Katedralja_Menza Katedralja_Menza_MAShTI Menza_MAShTI_Parlamenti\\n',\n",
       " '6 RrethiMadh_Lakrishte_BillClinton Lakrishte_BillClinton_Santea BillClinton_Santea_Katedralja Santea_Katedralja_Menza Katedralja_Menza_MAShTI Menza_MAShTI_Parlamenti\\n',\n",
       " '6 RrethiMadh_Lakrishte_BillClinton Lakrishte_BillClinton_Santea BillClinton_Santea_Katedralja Santea_Katedralja_Menza Katedralja_Menza_MAShTI Menza_MAShTI_Parlamenti\\n',\n",
       " '6 RrethiMadh_Lakrishte_BillClinton Lakrishte_BillClinton_Santea BillClinton_Santea_Katedralja Santea_Katedralja_Menza Katedralja_Menza_Teknik Menza_Teknik_RrugaB\\n',\n",
       " '6 RrethiMadh_Lakrishte_BillClinton Lakrishte_BillClinton_Santea BillClinton_Santea_Katedralja Santea_Katedralja_Menza Katedralja_Menza_Teknik Menza_Teknik_RrugaB\\n',\n",
       " '6 RrethiMadh_Lakrishte_BillClinton Lakrishte_BillClinton_Santea BillClinton_Santea_Katedralja Santea_Katedralja_Menza Katedralja_Menza_Teknik Menza_Teknik_Qerimi\\n',\n",
       " '6 RrethiMadh_Lakrishte_BillClinton Lakrishte_BillClinton_Santea BillClinton_Santea_Katedralja Santea_Katedralja_Menza Katedralja_Menza_Teknik Menza_Teknik_Qerimi\\n',\n",
       " '6 RrethiMadh_Lakrishte_BillClinton Lakrishte_BillClinton_Santea BillClinton_Santea_Katedralja Santea_Katedralja_Menza Katedralja_Menza_Teknik Menza_Teknik_Qerimi\\n']"
      ]
     },
     "execution_count": 45,
     "metadata": {},
     "output_type": "execute_result"
    }
   ],
   "source": [
    "text_data"
   ]
  },
  {
   "cell_type": "code",
   "execution_count": 48,
   "metadata": {},
   "outputs": [
    {
     "data": {
      "text/plain": [
       "['180 8 9 10 1000\\n',\n",
       " '0 1 E110\\n',\n",
       " '1 2 670507192#010\\n',\n",
       " '2 3 732059549#115\\n',\n",
       " '3 4 322292822#230\\n',\n",
       " '4 5 732149240#010\\n',\n",
       " '4 5 732149240#010\\n',\n",
       " '5 6 144928692#220\\n',\n",
       " '5 7 670227225#018\\n',\n",
       " '5 7 670227225#018\\n',\n",
       " '4 E1670507192#0732059549#1322292822#2\\n',\n",
       " '4 E1670507192#0732059549#1322292822#2\\n',\n",
       " '6 E1670507192#0732059549#1322292822#2732149240#0Menza_MAShTI_Parlamenti\\n',\n",
       " '6 E1670507192#0732059549#1322292822#2732149240#0Menza_MAShTI_Parlamenti\\n',\n",
       " '6 E1670507192#0732059549#1322292822#2732149240#0Menza_MAShTI_Parlamenti\\n',\n",
       " '6 E1670507192#0732059549#1322292822#2732149240#0Menza_Teknik_RrugaB\\n',\n",
       " '6 E1670507192#0732059549#1322292822#2732149240#0Menza_Teknik_RrugaB\\n',\n",
       " '6 E1670507192#0732059549#1322292822#2732149240#0Menza_Teknik_Qerimi\\n',\n",
       " '6 E1670507192#0732059549#1322292822#2732149240#0Menza_Teknik_Qerimi\\n',\n",
       " '6 E1670507192#0732059549#1322292822#2732149240#0Menza_Teknik_Qerimi\\n']"
      ]
     },
     "execution_count": 48,
     "metadata": {},
     "output_type": "execute_result"
    }
   ],
   "source": [
    "def replace_street_names_with_sumo(text_lines, mapping):\n",
    "    modified_lines = []\n",
    "    for line in text_lines:\n",
    "        for street_name, sumo_name in mapping.items():\n",
    "            # Ensuring we match the full street name followed by a space, newline, or end of line\n",
    "            line = line.replace(street_name, sumo_name)\n",
    "        modified_lines.append(line)\n",
    "    return modified_lines\n",
    "\n",
    "modified_text_lines = replace_street_names_with_sumo(text_data, street_to_sumo_mapping)\n",
    "modified_text_lines"
   ]
  },
  {
   "cell_type": "code",
   "execution_count": 47,
   "metadata": {},
   "outputs": [
    {
     "data": {
      "text/plain": [
       "['180 8 9 10 1000\\n',\n",
       " '0 1 RrethiMadh_Lakrishte_BillClinton 10\\n',\n",
       " '1 2 Lakrishte_BillClinton_Santea 10\\n',\n",
       " '2 3 BillClinton_Santea_Katedralja 15\\n',\n",
       " '3 4 Santea_Katedralja_Menza 30\\n',\n",
       " '4 5 Katedralja_Menza_MAShTI 10\\n',\n",
       " '4 5 Katedralja_Menza_Teknik 10\\n',\n",
       " '5 6 Menza_MAShTI_Parlamenti 20\\n',\n",
       " '5 7 Menza_Teknik_RrugaB 18\\n',\n",
       " '5 7 Menza_Teknik_Qerimi 18\\n',\n",
       " '4 RrethiMadh_Lakrishte_BillClinton Lakrishte_BillClinton_Santea BillClinton_Santea_Katedralja 322292822#2\\n',\n",
       " '4 RrethiMadh_Lakrishte_BillClinton Lakrishte_BillClinton_Santea BillClinton_Santea_Katedralja 322292822#2\\n',\n",
       " '6 RrethiMadh_Lakrishte_BillClinton Lakrishte_BillClinton_Santea BillClinton_Santea_Katedralja Santea_Katedralja_Menza Katedralja_Menza_MAShTI Menza_MAShTI_Parlamenti\\n',\n",
       " '6 RrethiMadh_Lakrishte_BillClinton Lakrishte_BillClinton_Santea BillClinton_Santea_Katedralja Santea_Katedralja_Menza Katedralja_Menza_MAShTI Menza_MAShTI_Parlamenti\\n',\n",
       " '6 RrethiMadh_Lakrishte_BillClinton Lakrishte_BillClinton_Santea BillClinton_Santea_Katedralja Santea_Katedralja_Menza Katedralja_Menza_MAShTI Menza_MAShTI_Parlamenti\\n',\n",
       " '6 RrethiMadh_Lakrishte_BillClinton Lakrishte_BillClinton_Santea BillClinton_Santea_Katedralja Santea_Katedralja_Menza Katedralja_Menza_Teknik Menza_Teknik_RrugaB\\n',\n",
       " '6 RrethiMadh_Lakrishte_BillClinton Lakrishte_BillClinton_Santea BillClinton_Santea_Katedralja Santea_Katedralja_Menza Katedralja_Menza_Teknik Menza_Teknik_RrugaB\\n',\n",
       " '6 RrethiMadh_Lakrishte_BillClinton Lakrishte_BillClinton_Santea BillClinton_Santea_Katedralja Santea_Katedralja_Menza Katedralja_Menza_Teknik Menza_Teknik_Qerimi\\n',\n",
       " '6 RrethiMadh_Lakrishte_BillClinton Lakrishte_BillClinton_Santea BillClinton_Santea_Katedralja Santea_Katedralja_Menza Katedralja_Menza_Teknik Menza_Teknik_Qerimi\\n',\n",
       " '6 RrethiMadh_Lakrishte_BillClinton Lakrishte_BillClinton_Santea BillClinton_Santea_Katedralja Santea_Katedralja_Menza Katedralja_Menza_Teknik Menza_Teknik_Qerimi\\n']"
      ]
     },
     "execution_count": 47,
     "metadata": {},
     "output_type": "execute_result"
    }
   ],
   "source": [
    "modified_lines"
   ]
  }
 ],
 "metadata": {
  "kernelspec": {
   "display_name": "Python 3",
   "language": "python",
   "name": "python3"
  },
  "language_info": {
   "codemirror_mode": {
    "name": "ipython",
    "version": 3
   },
   "file_extension": ".py",
   "mimetype": "text/x-python",
   "name": "python",
   "nbconvert_exporter": "python",
   "pygments_lexer": "ipython3",
   "version": "3.12.1"
  }
 },
 "nbformat": 4,
 "nbformat_minor": 2
}
